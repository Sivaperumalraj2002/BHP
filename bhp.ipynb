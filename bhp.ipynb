{
 "cells": [
  {
   "cell_type": "markdown",
   "id": "7d133aec",
   "metadata": {},
   "source": [
    "# Import the libraries"
   ]
  },
  {
   "cell_type": "code",
   "execution_count": 2,
   "id": "f86be926",
   "metadata": {},
   "outputs": [],
   "source": [
    "import seaborn as sns\n",
    "import pandas as pd\n",
    "import matplotlib.pyplot as plt\n"
   ]
  },
  {
   "cell_type": "markdown",
   "id": "c98ec09b",
   "metadata": {},
   "source": [
    "# Load the BHP dataset "
   ]
  },
  {
   "cell_type": "code",
   "execution_count": 3,
   "id": "9e224fed",
   "metadata": {},
   "outputs": [
    {
     "data": {
      "text/html": [
       "<div>\n",
       "<style scoped>\n",
       "    .dataframe tbody tr th:only-of-type {\n",
       "        vertical-align: middle;\n",
       "    }\n",
       "\n",
       "    .dataframe tbody tr th {\n",
       "        vertical-align: top;\n",
       "    }\n",
       "\n",
       "    .dataframe thead th {\n",
       "        text-align: right;\n",
       "    }\n",
       "</style>\n",
       "<table border=\"1\" class=\"dataframe\">\n",
       "  <thead>\n",
       "    <tr style=\"text-align: right;\">\n",
       "      <th></th>\n",
       "      <th>area_type</th>\n",
       "      <th>availability</th>\n",
       "      <th>location</th>\n",
       "      <th>size</th>\n",
       "      <th>society</th>\n",
       "      <th>total_sqft</th>\n",
       "      <th>bath</th>\n",
       "      <th>balcony</th>\n",
       "      <th>price</th>\n",
       "    </tr>\n",
       "  </thead>\n",
       "  <tbody>\n",
       "    <tr>\n",
       "      <th>0</th>\n",
       "      <td>Super built-up  Area</td>\n",
       "      <td>19-Dec</td>\n",
       "      <td>Electronic City Phase II</td>\n",
       "      <td>2 BHK</td>\n",
       "      <td>Coomee</td>\n",
       "      <td>1056</td>\n",
       "      <td>2.0</td>\n",
       "      <td>1.0</td>\n",
       "      <td>39.07</td>\n",
       "    </tr>\n",
       "    <tr>\n",
       "      <th>1</th>\n",
       "      <td>Plot  Area</td>\n",
       "      <td>Ready To Move</td>\n",
       "      <td>Chikka Tirupathi</td>\n",
       "      <td>4 Bedroom</td>\n",
       "      <td>Theanmp</td>\n",
       "      <td>2600</td>\n",
       "      <td>5.0</td>\n",
       "      <td>3.0</td>\n",
       "      <td>120.00</td>\n",
       "    </tr>\n",
       "    <tr>\n",
       "      <th>2</th>\n",
       "      <td>Built-up  Area</td>\n",
       "      <td>Ready To Move</td>\n",
       "      <td>Uttarahalli</td>\n",
       "      <td>3 BHK</td>\n",
       "      <td>NaN</td>\n",
       "      <td>1440</td>\n",
       "      <td>2.0</td>\n",
       "      <td>3.0</td>\n",
       "      <td>62.00</td>\n",
       "    </tr>\n",
       "    <tr>\n",
       "      <th>3</th>\n",
       "      <td>Super built-up  Area</td>\n",
       "      <td>Ready To Move</td>\n",
       "      <td>Lingadheeranahalli</td>\n",
       "      <td>3 BHK</td>\n",
       "      <td>Soiewre</td>\n",
       "      <td>1521</td>\n",
       "      <td>3.0</td>\n",
       "      <td>1.0</td>\n",
       "      <td>95.00</td>\n",
       "    </tr>\n",
       "    <tr>\n",
       "      <th>4</th>\n",
       "      <td>Super built-up  Area</td>\n",
       "      <td>Ready To Move</td>\n",
       "      <td>Kothanur</td>\n",
       "      <td>2 BHK</td>\n",
       "      <td>NaN</td>\n",
       "      <td>1200</td>\n",
       "      <td>2.0</td>\n",
       "      <td>1.0</td>\n",
       "      <td>51.00</td>\n",
       "    </tr>\n",
       "    <tr>\n",
       "      <th>...</th>\n",
       "      <td>...</td>\n",
       "      <td>...</td>\n",
       "      <td>...</td>\n",
       "      <td>...</td>\n",
       "      <td>...</td>\n",
       "      <td>...</td>\n",
       "      <td>...</td>\n",
       "      <td>...</td>\n",
       "      <td>...</td>\n",
       "    </tr>\n",
       "    <tr>\n",
       "      <th>13315</th>\n",
       "      <td>Built-up  Area</td>\n",
       "      <td>Ready To Move</td>\n",
       "      <td>Whitefield</td>\n",
       "      <td>5 Bedroom</td>\n",
       "      <td>ArsiaEx</td>\n",
       "      <td>3453</td>\n",
       "      <td>4.0</td>\n",
       "      <td>0.0</td>\n",
       "      <td>231.00</td>\n",
       "    </tr>\n",
       "    <tr>\n",
       "      <th>13316</th>\n",
       "      <td>Super built-up  Area</td>\n",
       "      <td>Ready To Move</td>\n",
       "      <td>Richards Town</td>\n",
       "      <td>4 BHK</td>\n",
       "      <td>NaN</td>\n",
       "      <td>3600</td>\n",
       "      <td>5.0</td>\n",
       "      <td>NaN</td>\n",
       "      <td>400.00</td>\n",
       "    </tr>\n",
       "    <tr>\n",
       "      <th>13317</th>\n",
       "      <td>Built-up  Area</td>\n",
       "      <td>Ready To Move</td>\n",
       "      <td>Raja Rajeshwari Nagar</td>\n",
       "      <td>2 BHK</td>\n",
       "      <td>Mahla T</td>\n",
       "      <td>1141</td>\n",
       "      <td>2.0</td>\n",
       "      <td>1.0</td>\n",
       "      <td>60.00</td>\n",
       "    </tr>\n",
       "    <tr>\n",
       "      <th>13318</th>\n",
       "      <td>Super built-up  Area</td>\n",
       "      <td>18-Jun</td>\n",
       "      <td>Padmanabhanagar</td>\n",
       "      <td>4 BHK</td>\n",
       "      <td>SollyCl</td>\n",
       "      <td>4689</td>\n",
       "      <td>4.0</td>\n",
       "      <td>1.0</td>\n",
       "      <td>488.00</td>\n",
       "    </tr>\n",
       "    <tr>\n",
       "      <th>13319</th>\n",
       "      <td>Super built-up  Area</td>\n",
       "      <td>Ready To Move</td>\n",
       "      <td>Doddathoguru</td>\n",
       "      <td>1 BHK</td>\n",
       "      <td>NaN</td>\n",
       "      <td>550</td>\n",
       "      <td>1.0</td>\n",
       "      <td>1.0</td>\n",
       "      <td>17.00</td>\n",
       "    </tr>\n",
       "  </tbody>\n",
       "</table>\n",
       "<p>13320 rows × 9 columns</p>\n",
       "</div>"
      ],
      "text/plain": [
       "                  area_type   availability                  location  \\\n",
       "0      Super built-up  Area         19-Dec  Electronic City Phase II   \n",
       "1                Plot  Area  Ready To Move          Chikka Tirupathi   \n",
       "2            Built-up  Area  Ready To Move               Uttarahalli   \n",
       "3      Super built-up  Area  Ready To Move        Lingadheeranahalli   \n",
       "4      Super built-up  Area  Ready To Move                  Kothanur   \n",
       "...                     ...            ...                       ...   \n",
       "13315        Built-up  Area  Ready To Move                Whitefield   \n",
       "13316  Super built-up  Area  Ready To Move             Richards Town   \n",
       "13317        Built-up  Area  Ready To Move     Raja Rajeshwari Nagar   \n",
       "13318  Super built-up  Area         18-Jun           Padmanabhanagar   \n",
       "13319  Super built-up  Area  Ready To Move              Doddathoguru   \n",
       "\n",
       "            size  society total_sqft  bath  balcony   price  \n",
       "0          2 BHK  Coomee        1056   2.0      1.0   39.07  \n",
       "1      4 Bedroom  Theanmp       2600   5.0      3.0  120.00  \n",
       "2          3 BHK      NaN       1440   2.0      3.0   62.00  \n",
       "3          3 BHK  Soiewre       1521   3.0      1.0   95.00  \n",
       "4          2 BHK      NaN       1200   2.0      1.0   51.00  \n",
       "...          ...      ...        ...   ...      ...     ...  \n",
       "13315  5 Bedroom  ArsiaEx       3453   4.0      0.0  231.00  \n",
       "13316      4 BHK      NaN       3600   5.0      NaN  400.00  \n",
       "13317      2 BHK  Mahla T       1141   2.0      1.0   60.00  \n",
       "13318      4 BHK  SollyCl       4689   4.0      1.0  488.00  \n",
       "13319      1 BHK      NaN        550   1.0      1.0   17.00  \n",
       "\n",
       "[13320 rows x 9 columns]"
      ]
     },
     "execution_count": 3,
     "metadata": {},
     "output_type": "execute_result"
    }
   ],
   "source": [
    "df = pd.read_csv('BHP.csv')\n",
    "df"
   ]
  },
  {
   "cell_type": "markdown",
   "id": "c8f35e7e",
   "metadata": {},
   "source": [
    "# understand each column"
   ]
  },
  {
   "cell_type": "code",
   "execution_count": 4,
   "id": "5efdeb82",
   "metadata": {},
   "outputs": [
    {
     "name": "stdout",
     "output_type": "stream",
     "text": [
      "13320\n",
      "<class 'pandas.core.frame.DataFrame'>\n",
      "RangeIndex: 13320 entries, 0 to 13319\n",
      "Data columns (total 9 columns):\n",
      " #   Column        Non-Null Count  Dtype  \n",
      "---  ------        --------------  -----  \n",
      " 0   area_type     13320 non-null  object \n",
      " 1   availability  13320 non-null  object \n",
      " 2   location      13319 non-null  object \n",
      " 3   size          13304 non-null  object \n",
      " 4   society       7818 non-null   object \n",
      " 5   total_sqft    13320 non-null  object \n",
      " 6   bath          13247 non-null  float64\n",
      " 7   balcony       12711 non-null  float64\n",
      " 8   price         13320 non-null  float64\n",
      "dtypes: float64(3), object(6)\n",
      "memory usage: 936.7+ KB\n"
     ]
    }
   ],
   "source": [
    "print(len(df))\n",
    "df.info()\n"
   ]
  },
  {
   "cell_type": "markdown",
   "id": "3072dd89",
   "metadata": {},
   "source": [
    "# get the information of columns and note the observation"
   ]
  },
  {
   "cell_type": "markdown",
   "id": "795ae5c2",
   "metadata": {},
   "source": [
    "# Observation\n",
    "1. area_type - it describes the area development and resources - no need to do and data preperation\n",
    "2. availability - it describes the vecancy wheather read to shift right now or not -  no need to do and data preperation\n",
    "3. Location - it describes the location of the house - very mynior cleaning need\n",
    "4. size - it describes the size of the house - very mynior cleaning need\n",
    "5. total_sqft - it describes the size of the house - no need to do and data preperation\n",
    "6. bath - it describes the no of bathrooms in a house - slight cleaning need\n",
    "7. balcony - it describes the no of balcony in a house - slight cleaning\n",
    "8. price - it describes the rent of the house - no need to do and data preperation"
   ]
  },
  {
   "cell_type": "markdown",
   "id": "08b9bdea",
   "metadata": {},
   "source": [
    "# understand the data inside the dataframe using head()"
   ]
  },
  {
   "cell_type": "code",
   "execution_count": 5,
   "id": "5177248a",
   "metadata": {},
   "outputs": [
    {
     "data": {
      "text/html": [
       "<div>\n",
       "<style scoped>\n",
       "    .dataframe tbody tr th:only-of-type {\n",
       "        vertical-align: middle;\n",
       "    }\n",
       "\n",
       "    .dataframe tbody tr th {\n",
       "        vertical-align: top;\n",
       "    }\n",
       "\n",
       "    .dataframe thead th {\n",
       "        text-align: right;\n",
       "    }\n",
       "</style>\n",
       "<table border=\"1\" class=\"dataframe\">\n",
       "  <thead>\n",
       "    <tr style=\"text-align: right;\">\n",
       "      <th></th>\n",
       "      <th>area_type</th>\n",
       "      <th>availability</th>\n",
       "      <th>location</th>\n",
       "      <th>size</th>\n",
       "      <th>society</th>\n",
       "      <th>total_sqft</th>\n",
       "      <th>bath</th>\n",
       "      <th>balcony</th>\n",
       "      <th>price</th>\n",
       "    </tr>\n",
       "  </thead>\n",
       "  <tbody>\n",
       "    <tr>\n",
       "      <th>0</th>\n",
       "      <td>Super built-up  Area</td>\n",
       "      <td>19-Dec</td>\n",
       "      <td>Electronic City Phase II</td>\n",
       "      <td>2 BHK</td>\n",
       "      <td>Coomee</td>\n",
       "      <td>1056</td>\n",
       "      <td>2.0</td>\n",
       "      <td>1.0</td>\n",
       "      <td>39.07</td>\n",
       "    </tr>\n",
       "    <tr>\n",
       "      <th>1</th>\n",
       "      <td>Plot  Area</td>\n",
       "      <td>Ready To Move</td>\n",
       "      <td>Chikka Tirupathi</td>\n",
       "      <td>4 Bedroom</td>\n",
       "      <td>Theanmp</td>\n",
       "      <td>2600</td>\n",
       "      <td>5.0</td>\n",
       "      <td>3.0</td>\n",
       "      <td>120.00</td>\n",
       "    </tr>\n",
       "    <tr>\n",
       "      <th>2</th>\n",
       "      <td>Built-up  Area</td>\n",
       "      <td>Ready To Move</td>\n",
       "      <td>Uttarahalli</td>\n",
       "      <td>3 BHK</td>\n",
       "      <td>NaN</td>\n",
       "      <td>1440</td>\n",
       "      <td>2.0</td>\n",
       "      <td>3.0</td>\n",
       "      <td>62.00</td>\n",
       "    </tr>\n",
       "    <tr>\n",
       "      <th>3</th>\n",
       "      <td>Super built-up  Area</td>\n",
       "      <td>Ready To Move</td>\n",
       "      <td>Lingadheeranahalli</td>\n",
       "      <td>3 BHK</td>\n",
       "      <td>Soiewre</td>\n",
       "      <td>1521</td>\n",
       "      <td>3.0</td>\n",
       "      <td>1.0</td>\n",
       "      <td>95.00</td>\n",
       "    </tr>\n",
       "    <tr>\n",
       "      <th>4</th>\n",
       "      <td>Super built-up  Area</td>\n",
       "      <td>Ready To Move</td>\n",
       "      <td>Kothanur</td>\n",
       "      <td>2 BHK</td>\n",
       "      <td>NaN</td>\n",
       "      <td>1200</td>\n",
       "      <td>2.0</td>\n",
       "      <td>1.0</td>\n",
       "      <td>51.00</td>\n",
       "    </tr>\n",
       "  </tbody>\n",
       "</table>\n",
       "</div>"
      ],
      "text/plain": [
       "              area_type   availability                  location       size  \\\n",
       "0  Super built-up  Area         19-Dec  Electronic City Phase II      2 BHK   \n",
       "1            Plot  Area  Ready To Move          Chikka Tirupathi  4 Bedroom   \n",
       "2        Built-up  Area  Ready To Move               Uttarahalli      3 BHK   \n",
       "3  Super built-up  Area  Ready To Move        Lingadheeranahalli      3 BHK   \n",
       "4  Super built-up  Area  Ready To Move                  Kothanur      2 BHK   \n",
       "\n",
       "   society total_sqft  bath  balcony   price  \n",
       "0  Coomee        1056   2.0      1.0   39.07  \n",
       "1  Theanmp       2600   5.0      3.0  120.00  \n",
       "2      NaN       1440   2.0      3.0   62.00  \n",
       "3  Soiewre       1521   3.0      1.0   95.00  \n",
       "4      NaN       1200   2.0      1.0   51.00  "
      ]
     },
     "execution_count": 5,
     "metadata": {},
     "output_type": "execute_result"
    }
   ],
   "source": [
    "df.head()"
   ]
  },
  {
   "cell_type": "markdown",
   "id": "e7418d75",
   "metadata": {},
   "source": [
    "# Data cleaning\n",
    "1. check and remove duplicates\n",
    "2. handle the missing values\n",
    "3. check and correct the invalid dtype\n",
    "4. remove the columns which are not important for  analysis\n",
    "\n"
   ]
  },
  {
   "cell_type": "code",
   "execution_count": 6,
   "id": "911ec1d2",
   "metadata": {},
   "outputs": [],
   "source": [
    "df = df.drop_duplicates()\n",
    "df = df.drop(labels='society',axis=1)\n",
    "df['location']=df['location'].fillna(df['location'].mode()[0])\n",
    "df['size']=df['size'].fillna(df['size'].mode()[0])\n",
    "df['bath']=df['bath'].fillna(df['bath'].mode()[0])\n",
    "df['balcony']=df['balcony'].fillna(df['balcony'].mode()[0])\n",
    "\n",
    "\n",
    "\n",
    "\n"
   ]
  },
  {
   "cell_type": "code",
   "execution_count": 7,
   "id": "22588a63",
   "metadata": {},
   "outputs": [],
   "source": [
    "# df['size']=df['size'].str.split(' ').str[0]\n",
    "# df=df.astype({'size':int})\n",
    "# df['sqft']=df['total_sqft'].str.split(' ').str[0]\n",
    "# df['sqft']=df['sqft'].str.split('Sq').str[0]\n",
    "# df['sqft']=df['sqft'].str.split('Perch').str[0]\n",
    "# df['sqft']=df['sqft'].str.split('Acres').str[0]\n",
    "# df['sqft']=df['sqft'].str.split('Cents').str[0]\n",
    "# df['sqft']=df['sqft'].str.split('Guntha').str[0]\n",
    "# df['sqft']=df['sqft'].str.split('Grounds').str[0]\n",
    "# df=df.astype({'sqft':float})\n",
    "# df.info()"
   ]
  },
  {
   "cell_type": "code",
   "execution_count": 8,
   "id": "a67085de",
   "metadata": {},
   "outputs": [
    {
     "name": "stdout",
     "output_type": "stream",
     "text": [
      "<class 'pandas.core.frame.DataFrame'>\n",
      "Index: 12791 entries, 0 to 13318\n",
      "Data columns (total 8 columns):\n",
      " #   Column        Non-Null Count  Dtype  \n",
      "---  ------        --------------  -----  \n",
      " 0   area_type     12791 non-null  object \n",
      " 1   availability  12791 non-null  object \n",
      " 2   location      12791 non-null  object \n",
      " 3   size          12791 non-null  object \n",
      " 4   total_sqft    12791 non-null  object \n",
      " 5   bath          12791 non-null  float64\n",
      " 6   balcony       12791 non-null  float64\n",
      " 7   price         12791 non-null  float64\n",
      "dtypes: float64(3), object(5)\n",
      "memory usage: 899.4+ KB\n"
     ]
    }
   ],
   "source": [
    "df.info()"
   ]
  },
  {
   "cell_type": "markdown",
   "id": "93da0607",
   "metadata": {},
   "source": [
    "# Data Transformation\n",
    "\n",
    "1. replace the 'Ready To Move' by 1 in availability column \n"
   ]
  },
  {
   "cell_type": "markdown",
   "id": "d8abecd6",
   "metadata": {},
   "source": [
    "2. keep only the numbers without name_of_units in total_sqft column\n",
    "\n",
    "    (to convert all units to the smallest unit(sqft) use the below values)\n",
    "\n",
    "    note: (if keys are found in the data then remove the word and multiply the number with given dict value)\n",
    "             and At last reinitialize the column by coverting it to int\n"
   ]
  },
  {
   "cell_type": "code",
   "execution_count": 9,
   "id": "a5d38a9f",
   "metadata": {},
   "outputs": [],
   "source": [
    "def f1(df):\n",
    "    if df['availability']=='Ready To Move':\n",
    "        return 1\n",
    "    else:\n",
    "        return 0\n",
    "\n",
    "df['availability_type']=df.apply(f1,axis=1)\n",
    "df['availability']=df.apply(f1,axis=1)\n",
    "# df=df.astype({'sqft':float})"
   ]
  },
  {
   "cell_type": "markdown",
   "id": "1eb8f933",
   "metadata": {},
   "source": [
    "# Pseudocode\n",
    "\n",
    "\n",
    "    FUNCTION f1(d):\n",
    "        val = d['total_sqft']\n",
    "        res = val\n",
    "    \n",
    "        CHECK FOR '-' in val:\n",
    "            Split by '-'\n",
    "            Take average of two numbers\n",
    "            res = average\n",
    "    \n",
    "        ELSE:\n",
    "            ITERATE through each unit in conv_sqft:\n",
    "                CHECK FOR unit in val:\n",
    "                    Remove unit from val\n",
    "                    Convert to float and multiply by conversion factor\n",
    "                    res = result\n",
    "    \n",
    "        RETURN res as float\n",
    "    "
   ]
  },
  {
   "cell_type": "code",
   "execution_count": 10,
   "id": "804faae7",
   "metadata": {},
   "outputs": [],
   "source": [
    "conv_sqft = {\n",
    "                'Sq. Meter': 10.7639,\n",
    "                'Sq. Yards': 9,\n",
    "                'Acres': 43560,\n",
    "                'Cents': 435.6,\n",
    "                'Guntha': 1089,\n",
    "                'Grounds': 2400,\n",
    "                'Perch':272.25,\n",
    "                'Sq. Feet': 1  # already in desired unit\n",
    "                \n",
    "             }"
   ]
  },
  {
   "cell_type": "code",
   "execution_count": 11,
   "id": "f3234de6",
   "metadata": {},
   "outputs": [
    {
     "data": {
      "text/html": [
       "<div>\n",
       "<style scoped>\n",
       "    .dataframe tbody tr th:only-of-type {\n",
       "        vertical-align: middle;\n",
       "    }\n",
       "\n",
       "    .dataframe tbody tr th {\n",
       "        vertical-align: top;\n",
       "    }\n",
       "\n",
       "    .dataframe thead th {\n",
       "        text-align: right;\n",
       "    }\n",
       "</style>\n",
       "<table border=\"1\" class=\"dataframe\">\n",
       "  <thead>\n",
       "    <tr style=\"text-align: right;\">\n",
       "      <th></th>\n",
       "      <th>area_type</th>\n",
       "      <th>availability</th>\n",
       "      <th>location</th>\n",
       "      <th>size</th>\n",
       "      <th>total_sqft</th>\n",
       "      <th>bath</th>\n",
       "      <th>balcony</th>\n",
       "      <th>price</th>\n",
       "      <th>availability_type</th>\n",
       "    </tr>\n",
       "  </thead>\n",
       "  <tbody>\n",
       "    <tr>\n",
       "      <th>0</th>\n",
       "      <td>Super built-up  Area</td>\n",
       "      <td>0</td>\n",
       "      <td>Electronic City Phase II</td>\n",
       "      <td>2 BHK</td>\n",
       "      <td>1056</td>\n",
       "      <td>2.0</td>\n",
       "      <td>1.0</td>\n",
       "      <td>39.07</td>\n",
       "      <td>0</td>\n",
       "    </tr>\n",
       "    <tr>\n",
       "      <th>1</th>\n",
       "      <td>Plot  Area</td>\n",
       "      <td>1</td>\n",
       "      <td>Chikka Tirupathi</td>\n",
       "      <td>4 Bedroom</td>\n",
       "      <td>2600</td>\n",
       "      <td>5.0</td>\n",
       "      <td>3.0</td>\n",
       "      <td>120.00</td>\n",
       "      <td>1</td>\n",
       "    </tr>\n",
       "    <tr>\n",
       "      <th>2</th>\n",
       "      <td>Built-up  Area</td>\n",
       "      <td>1</td>\n",
       "      <td>Uttarahalli</td>\n",
       "      <td>3 BHK</td>\n",
       "      <td>1440</td>\n",
       "      <td>2.0</td>\n",
       "      <td>3.0</td>\n",
       "      <td>62.00</td>\n",
       "      <td>1</td>\n",
       "    </tr>\n",
       "    <tr>\n",
       "      <th>3</th>\n",
       "      <td>Super built-up  Area</td>\n",
       "      <td>1</td>\n",
       "      <td>Lingadheeranahalli</td>\n",
       "      <td>3 BHK</td>\n",
       "      <td>1521</td>\n",
       "      <td>3.0</td>\n",
       "      <td>1.0</td>\n",
       "      <td>95.00</td>\n",
       "      <td>1</td>\n",
       "    </tr>\n",
       "    <tr>\n",
       "      <th>4</th>\n",
       "      <td>Super built-up  Area</td>\n",
       "      <td>1</td>\n",
       "      <td>Kothanur</td>\n",
       "      <td>2 BHK</td>\n",
       "      <td>1200</td>\n",
       "      <td>2.0</td>\n",
       "      <td>1.0</td>\n",
       "      <td>51.00</td>\n",
       "      <td>1</td>\n",
       "    </tr>\n",
       "    <tr>\n",
       "      <th>...</th>\n",
       "      <td>...</td>\n",
       "      <td>...</td>\n",
       "      <td>...</td>\n",
       "      <td>...</td>\n",
       "      <td>...</td>\n",
       "      <td>...</td>\n",
       "      <td>...</td>\n",
       "      <td>...</td>\n",
       "      <td>...</td>\n",
       "    </tr>\n",
       "    <tr>\n",
       "      <th>13314</th>\n",
       "      <td>Super built-up  Area</td>\n",
       "      <td>1</td>\n",
       "      <td>Green Glen Layout</td>\n",
       "      <td>3 BHK</td>\n",
       "      <td>1715</td>\n",
       "      <td>3.0</td>\n",
       "      <td>3.0</td>\n",
       "      <td>112.00</td>\n",
       "      <td>1</td>\n",
       "    </tr>\n",
       "    <tr>\n",
       "      <th>13315</th>\n",
       "      <td>Built-up  Area</td>\n",
       "      <td>1</td>\n",
       "      <td>Whitefield</td>\n",
       "      <td>5 Bedroom</td>\n",
       "      <td>3453</td>\n",
       "      <td>4.0</td>\n",
       "      <td>0.0</td>\n",
       "      <td>231.00</td>\n",
       "      <td>1</td>\n",
       "    </tr>\n",
       "    <tr>\n",
       "      <th>13316</th>\n",
       "      <td>Super built-up  Area</td>\n",
       "      <td>1</td>\n",
       "      <td>Richards Town</td>\n",
       "      <td>4 BHK</td>\n",
       "      <td>3600</td>\n",
       "      <td>5.0</td>\n",
       "      <td>2.0</td>\n",
       "      <td>400.00</td>\n",
       "      <td>1</td>\n",
       "    </tr>\n",
       "    <tr>\n",
       "      <th>13317</th>\n",
       "      <td>Built-up  Area</td>\n",
       "      <td>1</td>\n",
       "      <td>Raja Rajeshwari Nagar</td>\n",
       "      <td>2 BHK</td>\n",
       "      <td>1141</td>\n",
       "      <td>2.0</td>\n",
       "      <td>1.0</td>\n",
       "      <td>60.00</td>\n",
       "      <td>1</td>\n",
       "    </tr>\n",
       "    <tr>\n",
       "      <th>13318</th>\n",
       "      <td>Super built-up  Area</td>\n",
       "      <td>0</td>\n",
       "      <td>Padmanabhanagar</td>\n",
       "      <td>4 BHK</td>\n",
       "      <td>4689</td>\n",
       "      <td>4.0</td>\n",
       "      <td>1.0</td>\n",
       "      <td>488.00</td>\n",
       "      <td>0</td>\n",
       "    </tr>\n",
       "  </tbody>\n",
       "</table>\n",
       "<p>12791 rows × 9 columns</p>\n",
       "</div>"
      ],
      "text/plain": [
       "                  area_type  availability                  location  \\\n",
       "0      Super built-up  Area             0  Electronic City Phase II   \n",
       "1                Plot  Area             1          Chikka Tirupathi   \n",
       "2            Built-up  Area             1               Uttarahalli   \n",
       "3      Super built-up  Area             1        Lingadheeranahalli   \n",
       "4      Super built-up  Area             1                  Kothanur   \n",
       "...                     ...           ...                       ...   \n",
       "13314  Super built-up  Area             1         Green Glen Layout   \n",
       "13315        Built-up  Area             1                Whitefield   \n",
       "13316  Super built-up  Area             1             Richards Town   \n",
       "13317        Built-up  Area             1     Raja Rajeshwari Nagar   \n",
       "13318  Super built-up  Area             0           Padmanabhanagar   \n",
       "\n",
       "            size total_sqft  bath  balcony   price  availability_type  \n",
       "0          2 BHK       1056   2.0      1.0   39.07                  0  \n",
       "1      4 Bedroom       2600   5.0      3.0  120.00                  1  \n",
       "2          3 BHK       1440   2.0      3.0   62.00                  1  \n",
       "3          3 BHK       1521   3.0      1.0   95.00                  1  \n",
       "4          2 BHK       1200   2.0      1.0   51.00                  1  \n",
       "...          ...        ...   ...      ...     ...                ...  \n",
       "13314      3 BHK       1715   3.0      3.0  112.00                  1  \n",
       "13315  5 Bedroom       3453   4.0      0.0  231.00                  1  \n",
       "13316      4 BHK       3600   5.0      2.0  400.00                  1  \n",
       "13317      2 BHK       1141   2.0      1.0   60.00                  1  \n",
       "13318      4 BHK       4689   4.0      1.0  488.00                  0  \n",
       "\n",
       "[12791 rows x 9 columns]"
      ]
     },
     "execution_count": 11,
     "metadata": {},
     "output_type": "execute_result"
    }
   ],
   "source": [
    "df"
   ]
  },
  {
   "cell_type": "code",
   "execution_count": 12,
   "id": "33d83313",
   "metadata": {},
   "outputs": [],
   "source": [
    "def f2(df):\n",
    "    val = df['total_sqft']\n",
    "    try:\n",
    "        float(val)\n",
    "        return val\n",
    "    except:\n",
    "        pass\n",
    "    if '-' in val:\n",
    "        v = max(val.split('-'))\n",
    "        return v\n",
    "    else:\n",
    "        for key,value in conv_sqft.items():\n",
    "            if key in val:\n",
    "                val=val.split(key)[0]\n",
    "                try:\n",
    "                    val = int(float(val)*value)\n",
    "                except:\n",
    "                    pass\n",
    "                return val\n",
    "    return val\n",
    "    \n",
    "df['total_sqft']=df.apply(f2,axis=1)\n",
    "df=df.astype({'total_sqft':float})\n"
   ]
  },
  {
   "cell_type": "markdown",
   "id": "5ce13fa5",
   "metadata": {},
   "source": [
    "3. change the order of the columns (optional)"
   ]
  },
  {
   "cell_type": "code",
   "execution_count": 13,
   "id": "da78fe1c",
   "metadata": {},
   "outputs": [
    {
     "data": {
      "text/plain": [
       "Index(['area_type', 'availability', 'location', 'size', 'total_sqft', 'bath',\n",
       "       'balcony', 'price', 'availability_type'],\n",
       "      dtype='object')"
      ]
     },
     "execution_count": 13,
     "metadata": {},
     "output_type": "execute_result"
    }
   ],
   "source": [
    "df.columns"
   ]
  },
  {
   "cell_type": "markdown",
   "id": "17e70c33",
   "metadata": {},
   "source": [
    "4. get the top 5 rows"
   ]
  },
  {
   "cell_type": "code",
   "execution_count": 14,
   "id": "e578fb01",
   "metadata": {},
   "outputs": [
    {
     "data": {
      "text/html": [
       "<div>\n",
       "<style scoped>\n",
       "    .dataframe tbody tr th:only-of-type {\n",
       "        vertical-align: middle;\n",
       "    }\n",
       "\n",
       "    .dataframe tbody tr th {\n",
       "        vertical-align: top;\n",
       "    }\n",
       "\n",
       "    .dataframe thead th {\n",
       "        text-align: right;\n",
       "    }\n",
       "</style>\n",
       "<table border=\"1\" class=\"dataframe\">\n",
       "  <thead>\n",
       "    <tr style=\"text-align: right;\">\n",
       "      <th></th>\n",
       "      <th>area_type</th>\n",
       "      <th>availability</th>\n",
       "      <th>location</th>\n",
       "      <th>size</th>\n",
       "      <th>total_sqft</th>\n",
       "      <th>bath</th>\n",
       "      <th>balcony</th>\n",
       "      <th>price</th>\n",
       "      <th>availability_type</th>\n",
       "    </tr>\n",
       "  </thead>\n",
       "  <tbody>\n",
       "    <tr>\n",
       "      <th>0</th>\n",
       "      <td>Super built-up  Area</td>\n",
       "      <td>0</td>\n",
       "      <td>Electronic City Phase II</td>\n",
       "      <td>2 BHK</td>\n",
       "      <td>1056.0</td>\n",
       "      <td>2.0</td>\n",
       "      <td>1.0</td>\n",
       "      <td>39.07</td>\n",
       "      <td>0</td>\n",
       "    </tr>\n",
       "    <tr>\n",
       "      <th>1</th>\n",
       "      <td>Plot  Area</td>\n",
       "      <td>1</td>\n",
       "      <td>Chikka Tirupathi</td>\n",
       "      <td>4 Bedroom</td>\n",
       "      <td>2600.0</td>\n",
       "      <td>5.0</td>\n",
       "      <td>3.0</td>\n",
       "      <td>120.00</td>\n",
       "      <td>1</td>\n",
       "    </tr>\n",
       "    <tr>\n",
       "      <th>2</th>\n",
       "      <td>Built-up  Area</td>\n",
       "      <td>1</td>\n",
       "      <td>Uttarahalli</td>\n",
       "      <td>3 BHK</td>\n",
       "      <td>1440.0</td>\n",
       "      <td>2.0</td>\n",
       "      <td>3.0</td>\n",
       "      <td>62.00</td>\n",
       "      <td>1</td>\n",
       "    </tr>\n",
       "    <tr>\n",
       "      <th>3</th>\n",
       "      <td>Super built-up  Area</td>\n",
       "      <td>1</td>\n",
       "      <td>Lingadheeranahalli</td>\n",
       "      <td>3 BHK</td>\n",
       "      <td>1521.0</td>\n",
       "      <td>3.0</td>\n",
       "      <td>1.0</td>\n",
       "      <td>95.00</td>\n",
       "      <td>1</td>\n",
       "    </tr>\n",
       "    <tr>\n",
       "      <th>4</th>\n",
       "      <td>Super built-up  Area</td>\n",
       "      <td>1</td>\n",
       "      <td>Kothanur</td>\n",
       "      <td>2 BHK</td>\n",
       "      <td>1200.0</td>\n",
       "      <td>2.0</td>\n",
       "      <td>1.0</td>\n",
       "      <td>51.00</td>\n",
       "      <td>1</td>\n",
       "    </tr>\n",
       "  </tbody>\n",
       "</table>\n",
       "</div>"
      ],
      "text/plain": [
       "              area_type  availability                  location       size  \\\n",
       "0  Super built-up  Area             0  Electronic City Phase II      2 BHK   \n",
       "1            Plot  Area             1          Chikka Tirupathi  4 Bedroom   \n",
       "2        Built-up  Area             1               Uttarahalli      3 BHK   \n",
       "3  Super built-up  Area             1        Lingadheeranahalli      3 BHK   \n",
       "4  Super built-up  Area             1                  Kothanur      2 BHK   \n",
       "\n",
       "   total_sqft  bath  balcony   price  availability_type  \n",
       "0      1056.0   2.0      1.0   39.07                  0  \n",
       "1      2600.0   5.0      3.0  120.00                  1  \n",
       "2      1440.0   2.0      3.0   62.00                  1  \n",
       "3      1521.0   3.0      1.0   95.00                  1  \n",
       "4      1200.0   2.0      1.0   51.00                  1  "
      ]
     },
     "execution_count": 14,
     "metadata": {},
     "output_type": "execute_result"
    }
   ],
   "source": [
    "df.head()"
   ]
  },
  {
   "cell_type": "code",
   "execution_count": 15,
   "id": "273076bf",
   "metadata": {},
   "outputs": [
    {
     "name": "stdout",
     "output_type": "stream",
     "text": [
      "<class 'pandas.core.frame.DataFrame'>\n",
      "Index: 12791 entries, 0 to 13318\n",
      "Data columns (total 9 columns):\n",
      " #   Column             Non-Null Count  Dtype  \n",
      "---  ------             --------------  -----  \n",
      " 0   area_type          12791 non-null  object \n",
      " 1   availability       12791 non-null  int64  \n",
      " 2   location           12791 non-null  object \n",
      " 3   size               12791 non-null  object \n",
      " 4   total_sqft         12791 non-null  float64\n",
      " 5   bath               12791 non-null  float64\n",
      " 6   balcony            12791 non-null  float64\n",
      " 7   price              12791 non-null  float64\n",
      " 8   availability_type  12791 non-null  int64  \n",
      "dtypes: float64(4), int64(2), object(3)\n",
      "memory usage: 999.3+ KB\n"
     ]
    }
   ],
   "source": [
    "df.info()"
   ]
  },
  {
   "cell_type": "code",
   "execution_count": 16,
   "id": "729b633b",
   "metadata": {},
   "outputs": [],
   "source": [
    "def f3(df):\n",
    "    val=df['size'].split(' ')\n",
    "    return val[0]\n",
    "df['size']=df.apply(f3,axis=1)\n",
    "df=df.astype({'size':int})"
   ]
  },
  {
   "cell_type": "markdown",
   "id": "69c7aecc",
   "metadata": {},
   "source": [
    "#  BHP Dataset - Questions"
   ]
  },
  {
   "cell_type": "markdown",
   "id": "bc39dd60",
   "metadata": {},
   "source": [
    "1. Number of houses in the dataset\n",
    "2. Number of houses that are currently unavailable\n",
    "3. Number of houses that are currently available with 2BHK\n",
    "4. Number of houses and highest price in Electronic City\n",
    "5. Number of 2BHK houses with at least 2 bathrooms and a balcony\n",
    "6. Top five locations with the most houses for sale\n",
    "7. Top five locations with the most houses currently available\n",
    "8. Unique values in the area type column\n",
    "9. no_of locations in the dataset\n",
    "10. get the Average price , Highest price and lowest price in each location\n",
    "11. Details of the top 2 houses with the highest price\n",
    "12. Highest and Average sqft among all houses\n",
    "13. Location with the most houses for sale\n",
    "14. Location with the most houses currently available for sale"
   ]
  },
  {
   "cell_type": "code",
   "execution_count": 17,
   "id": "e588126d",
   "metadata": {},
   "outputs": [
    {
     "name": "stdout",
     "output_type": "stream",
     "text": [
      "12791\n"
     ]
    }
   ],
   "source": [
    "print(len(df)) #1"
   ]
  },
  {
   "cell_type": "code",
   "execution_count": 18,
   "id": "a61f7573",
   "metadata": {},
   "outputs": [
    {
     "name": "stdout",
     "output_type": "stream",
     "text": [
      "10172\n"
     ]
    }
   ],
   "source": [
    "print(len(df[df['availability']==1])) #2"
   ]
  },
  {
   "cell_type": "code",
   "execution_count": 19,
   "id": "8d991633",
   "metadata": {},
   "outputs": [
    {
     "name": "stdout",
     "output_type": "stream",
     "text": [
      "5261\n"
     ]
    }
   ],
   "source": [
    "temp=df[df['availability']==1]\n",
    "print(len(df[df['size']==2])) #3"
   ]
  },
  {
   "cell_type": "code",
   "execution_count": 45,
   "id": "0b1e7759",
   "metadata": {},
   "outputs": [
    {
     "data": {
      "text/html": [
       "<div>\n",
       "<style scoped>\n",
       "    .dataframe tbody tr th:only-of-type {\n",
       "        vertical-align: middle;\n",
       "    }\n",
       "\n",
       "    .dataframe tbody tr th {\n",
       "        vertical-align: top;\n",
       "    }\n",
       "\n",
       "    .dataframe thead tr th {\n",
       "        text-align: left;\n",
       "    }\n",
       "\n",
       "    .dataframe thead tr:last-of-type th {\n",
       "        text-align: right;\n",
       "    }\n",
       "</style>\n",
       "<table border=\"1\" class=\"dataframe\">\n",
       "  <thead>\n",
       "    <tr>\n",
       "      <th></th>\n",
       "      <th colspan=\"2\" halign=\"left\">price</th>\n",
       "    </tr>\n",
       "    <tr>\n",
       "      <th></th>\n",
       "      <th>count</th>\n",
       "      <th>max</th>\n",
       "    </tr>\n",
       "    <tr>\n",
       "      <th>location</th>\n",
       "      <th></th>\n",
       "      <th></th>\n",
       "    </tr>\n",
       "  </thead>\n",
       "  <tbody>\n",
       "    <tr>\n",
       "      <th>Electronic City</th>\n",
       "      <td>513</td>\n",
       "      <td>700.0</td>\n",
       "    </tr>\n",
       "  </tbody>\n",
       "</table>\n",
       "</div>"
      ],
      "text/plain": [
       "                price       \n",
       "                count    max\n",
       "location                    \n",
       "Electronic City   513  700.0"
      ]
     },
     "execution_count": 45,
     "metadata": {},
     "output_type": "execute_result"
    }
   ],
   "source": [
    "def f4(df):\n",
    "    val = df['location']\n",
    "    if 'Electronic' in val:\n",
    "        return df[['location','price']]\n",
    "    else:\n",
    "        return False\n",
    "temp=df.apply(f4,axis=1) #4\n",
    "temp = temp[temp['location'] != False ]\n",
    "lst=['Electronic City']*len(temp)\n",
    "temp['location']=lst\n",
    "temp.groupby('location').agg({'price':['count','max']})"
   ]
  },
  {
   "cell_type": "code",
   "execution_count": 21,
   "id": "df11e978",
   "metadata": {},
   "outputs": [
    {
     "data": {
      "text/plain": [
       "np.int64(2324)"
      ]
     },
     "execution_count": 21,
     "metadata": {},
     "output_type": "execute_result"
    }
   ],
   "source": [
    "def f4(df):\n",
    "    bhk = df['size']\n",
    "    bal = df['balcony']\n",
    "    bat = df['bath']\n",
    "    if bhk==2 and bal>=2 and bat>=bat:\n",
    "        return True\n",
    "    else:\n",
    "        return False\n",
    "df.apply(f4,axis=1).sum() #5"
   ]
  },
  {
   "cell_type": "code",
   "execution_count": 22,
   "id": "d154c1e4",
   "metadata": {},
   "outputs": [
    {
     "data": {
      "text/html": [
       "<div>\n",
       "<style scoped>\n",
       "    .dataframe tbody tr th:only-of-type {\n",
       "        vertical-align: middle;\n",
       "    }\n",
       "\n",
       "    .dataframe tbody tr th {\n",
       "        vertical-align: top;\n",
       "    }\n",
       "\n",
       "    .dataframe thead th {\n",
       "        text-align: right;\n",
       "    }\n",
       "</style>\n",
       "<table border=\"1\" class=\"dataframe\">\n",
       "  <thead>\n",
       "    <tr style=\"text-align: right;\">\n",
       "      <th></th>\n",
       "      <th>availability</th>\n",
       "    </tr>\n",
       "    <tr>\n",
       "      <th>location</th>\n",
       "      <th></th>\n",
       "    </tr>\n",
       "  </thead>\n",
       "  <tbody>\n",
       "    <tr>\n",
       "      <th>Whitefield</th>\n",
       "      <td>325</td>\n",
       "    </tr>\n",
       "    <tr>\n",
       "      <th>Sarjapur  Road</th>\n",
       "      <td>287</td>\n",
       "    </tr>\n",
       "    <tr>\n",
       "      <th>Electronic City</th>\n",
       "      <td>177</td>\n",
       "    </tr>\n",
       "    <tr>\n",
       "      <th>Yelahanka</th>\n",
       "      <td>160</td>\n",
       "    </tr>\n",
       "    <tr>\n",
       "      <th>Thanisandra</th>\n",
       "      <td>159</td>\n",
       "    </tr>\n",
       "  </tbody>\n",
       "</table>\n",
       "</div>"
      ],
      "text/plain": [
       "                 availability\n",
       "location                     \n",
       "Whitefield                325\n",
       "Sarjapur  Road            287\n",
       "Electronic City           177\n",
       "Yelahanka                 160\n",
       "Thanisandra               159"
      ]
     },
     "execution_count": 22,
     "metadata": {},
     "output_type": "execute_result"
    }
   ],
   "source": [
    "temp = df[df['availability']==1]\n",
    "temp.groupby(by='location').agg({'availability':'sum'}).sort_values(by='availability',ascending=False)[:5] #6"
   ]
  },
  {
   "cell_type": "code",
   "execution_count": 23,
   "id": "70002246",
   "metadata": {},
   "outputs": [
    {
     "data": {
      "text/html": [
       "<div>\n",
       "<style scoped>\n",
       "    .dataframe tbody tr th:only-of-type {\n",
       "        vertical-align: middle;\n",
       "    }\n",
       "\n",
       "    .dataframe tbody tr th {\n",
       "        vertical-align: top;\n",
       "    }\n",
       "\n",
       "    .dataframe thead th {\n",
       "        text-align: right;\n",
       "    }\n",
       "</style>\n",
       "<table border=\"1\" class=\"dataframe\">\n",
       "  <thead>\n",
       "    <tr style=\"text-align: right;\">\n",
       "      <th></th>\n",
       "      <th>availability</th>\n",
       "    </tr>\n",
       "    <tr>\n",
       "      <th>location</th>\n",
       "      <th></th>\n",
       "    </tr>\n",
       "  </thead>\n",
       "  <tbody>\n",
       "    <tr>\n",
       "      <th>Whitefield</th>\n",
       "      <td>325</td>\n",
       "    </tr>\n",
       "    <tr>\n",
       "      <th>Sarjapur  Road</th>\n",
       "      <td>287</td>\n",
       "    </tr>\n",
       "    <tr>\n",
       "      <th>Electronic City</th>\n",
       "      <td>177</td>\n",
       "    </tr>\n",
       "    <tr>\n",
       "      <th>Yelahanka</th>\n",
       "      <td>160</td>\n",
       "    </tr>\n",
       "    <tr>\n",
       "      <th>Thanisandra</th>\n",
       "      <td>159</td>\n",
       "    </tr>\n",
       "  </tbody>\n",
       "</table>\n",
       "</div>"
      ],
      "text/plain": [
       "                 availability\n",
       "location                     \n",
       "Whitefield                325\n",
       "Sarjapur  Road            287\n",
       "Electronic City           177\n",
       "Yelahanka                 160\n",
       "Thanisandra               159"
      ]
     },
     "execution_count": 23,
     "metadata": {},
     "output_type": "execute_result"
    }
   ],
   "source": [
    "temp = df[df['availability']==1]\n",
    "temp.groupby(by='location').agg({'availability':'sum'}).sort_values(by='availability',ascending=False)[:5] #7"
   ]
  },
  {
   "cell_type": "code",
   "execution_count": 24,
   "id": "f7634ecb",
   "metadata": {},
   "outputs": [
    {
     "data": {
      "text/plain": [
       "array(['Super built-up  Area', 'Plot  Area', 'Built-up  Area',\n",
       "       'Carpet  Area'], dtype=object)"
      ]
     },
     "execution_count": 24,
     "metadata": {},
     "output_type": "execute_result"
    }
   ],
   "source": [
    "df['area_type'].unique() #8"
   ]
  },
  {
   "cell_type": "code",
   "execution_count": 25,
   "id": "e9693cc5",
   "metadata": {},
   "outputs": [
    {
     "data": {
      "text/plain": [
       "1305"
      ]
     },
     "execution_count": 25,
     "metadata": {},
     "output_type": "execute_result"
    }
   ],
   "source": [
    "df['location'].nunique() #9"
   ]
  },
  {
   "cell_type": "code",
   "execution_count": 26,
   "id": "048d9ec4",
   "metadata": {},
   "outputs": [
    {
     "data": {
      "text/html": [
       "<div>\n",
       "<style scoped>\n",
       "    .dataframe tbody tr th:only-of-type {\n",
       "        vertical-align: middle;\n",
       "    }\n",
       "\n",
       "    .dataframe tbody tr th {\n",
       "        vertical-align: top;\n",
       "    }\n",
       "\n",
       "    .dataframe thead tr th {\n",
       "        text-align: left;\n",
       "    }\n",
       "\n",
       "    .dataframe thead tr:last-of-type th {\n",
       "        text-align: right;\n",
       "    }\n",
       "</style>\n",
       "<table border=\"1\" class=\"dataframe\">\n",
       "  <thead>\n",
       "    <tr>\n",
       "      <th></th>\n",
       "      <th colspan=\"3\" halign=\"left\">price</th>\n",
       "    </tr>\n",
       "    <tr>\n",
       "      <th></th>\n",
       "      <th>mean</th>\n",
       "      <th>max</th>\n",
       "      <th>min</th>\n",
       "    </tr>\n",
       "    <tr>\n",
       "      <th>location</th>\n",
       "      <th></th>\n",
       "      <th></th>\n",
       "      <th></th>\n",
       "    </tr>\n",
       "  </thead>\n",
       "  <tbody>\n",
       "    <tr>\n",
       "      <th>Anekal</th>\n",
       "      <td>16.000000</td>\n",
       "      <td>16.00</td>\n",
       "      <td>16.00</td>\n",
       "    </tr>\n",
       "    <tr>\n",
       "      <th>Banaswadi</th>\n",
       "      <td>35.000000</td>\n",
       "      <td>35.00</td>\n",
       "      <td>35.00</td>\n",
       "    </tr>\n",
       "    <tr>\n",
       "      <th>Basavangudi</th>\n",
       "      <td>50.000000</td>\n",
       "      <td>50.00</td>\n",
       "      <td>50.00</td>\n",
       "    </tr>\n",
       "    <tr>\n",
       "      <th>Bhoganhalli</th>\n",
       "      <td>22.890000</td>\n",
       "      <td>22.89</td>\n",
       "      <td>22.89</td>\n",
       "    </tr>\n",
       "    <tr>\n",
       "      <th>Devarabeesana Halli</th>\n",
       "      <td>124.833333</td>\n",
       "      <td>160.00</td>\n",
       "      <td>70.00</td>\n",
       "    </tr>\n",
       "    <tr>\n",
       "      <th>...</th>\n",
       "      <td>...</td>\n",
       "      <td>...</td>\n",
       "      <td>...</td>\n",
       "    </tr>\n",
       "    <tr>\n",
       "      <th>t.c palya</th>\n",
       "      <td>160.000000</td>\n",
       "      <td>160.00</td>\n",
       "      <td>160.00</td>\n",
       "    </tr>\n",
       "    <tr>\n",
       "      <th>tc.palya</th>\n",
       "      <td>60.750000</td>\n",
       "      <td>78.00</td>\n",
       "      <td>48.00</td>\n",
       "    </tr>\n",
       "    <tr>\n",
       "      <th>vinayakanagar</th>\n",
       "      <td>200.000000</td>\n",
       "      <td>200.00</td>\n",
       "      <td>200.00</td>\n",
       "    </tr>\n",
       "    <tr>\n",
       "      <th>white field,kadugodi</th>\n",
       "      <td>275.000000</td>\n",
       "      <td>275.00</td>\n",
       "      <td>275.00</td>\n",
       "    </tr>\n",
       "    <tr>\n",
       "      <th>whitefiled</th>\n",
       "      <td>32.730000</td>\n",
       "      <td>32.73</td>\n",
       "      <td>32.73</td>\n",
       "    </tr>\n",
       "  </tbody>\n",
       "</table>\n",
       "<p>1305 rows × 3 columns</p>\n",
       "</div>"
      ],
      "text/plain": [
       "                           price                \n",
       "                            mean     max     min\n",
       "location                                        \n",
       " Anekal                16.000000   16.00   16.00\n",
       " Banaswadi             35.000000   35.00   35.00\n",
       " Basavangudi           50.000000   50.00   50.00\n",
       " Bhoganhalli           22.890000   22.89   22.89\n",
       " Devarabeesana Halli  124.833333  160.00   70.00\n",
       "...                          ...     ...     ...\n",
       "t.c palya             160.000000  160.00  160.00\n",
       "tc.palya               60.750000   78.00   48.00\n",
       "vinayakanagar         200.000000  200.00  200.00\n",
       "white field,kadugodi  275.000000  275.00  275.00\n",
       "whitefiled             32.730000   32.73   32.73\n",
       "\n",
       "[1305 rows x 3 columns]"
      ]
     },
     "execution_count": 26,
     "metadata": {},
     "output_type": "execute_result"
    }
   ],
   "source": [
    "df.groupby(by='location').agg({'price':['mean','max','min']}) #10"
   ]
  },
  {
   "cell_type": "code",
   "execution_count": 27,
   "id": "526d8cd2",
   "metadata": {},
   "outputs": [
    {
     "data": {
      "text/html": [
       "<div>\n",
       "<style scoped>\n",
       "    .dataframe tbody tr th:only-of-type {\n",
       "        vertical-align: middle;\n",
       "    }\n",
       "\n",
       "    .dataframe tbody tr th {\n",
       "        vertical-align: top;\n",
       "    }\n",
       "\n",
       "    .dataframe thead th {\n",
       "        text-align: right;\n",
       "    }\n",
       "</style>\n",
       "<table border=\"1\" class=\"dataframe\">\n",
       "  <thead>\n",
       "    <tr style=\"text-align: right;\">\n",
       "      <th></th>\n",
       "      <th>area_type</th>\n",
       "      <th>availability</th>\n",
       "      <th>location</th>\n",
       "      <th>size</th>\n",
       "      <th>total_sqft</th>\n",
       "      <th>bath</th>\n",
       "      <th>balcony</th>\n",
       "      <th>price</th>\n",
       "      <th>availability_type</th>\n",
       "    </tr>\n",
       "  </thead>\n",
       "  <tbody>\n",
       "    <tr>\n",
       "      <th>13067</th>\n",
       "      <td>Plot  Area</td>\n",
       "      <td>1</td>\n",
       "      <td>Defence Colony</td>\n",
       "      <td>10</td>\n",
       "      <td>7150.0</td>\n",
       "      <td>13.0</td>\n",
       "      <td>2.0</td>\n",
       "      <td>3600.0</td>\n",
       "      <td>1</td>\n",
       "    </tr>\n",
       "    <tr>\n",
       "      <th>11080</th>\n",
       "      <td>Super built-up  Area</td>\n",
       "      <td>0</td>\n",
       "      <td>Ashok Nagar</td>\n",
       "      <td>4</td>\n",
       "      <td>8321.0</td>\n",
       "      <td>5.0</td>\n",
       "      <td>2.0</td>\n",
       "      <td>2912.0</td>\n",
       "      <td>0</td>\n",
       "    </tr>\n",
       "  </tbody>\n",
       "</table>\n",
       "</div>"
      ],
      "text/plain": [
       "                  area_type  availability        location  size  total_sqft  \\\n",
       "13067            Plot  Area             1  Defence Colony    10      7150.0   \n",
       "11080  Super built-up  Area             0     Ashok Nagar     4      8321.0   \n",
       "\n",
       "       bath  balcony   price  availability_type  \n",
       "13067  13.0      2.0  3600.0                  1  \n",
       "11080   5.0      2.0  2912.0                  0  "
      ]
     },
     "execution_count": 27,
     "metadata": {},
     "output_type": "execute_result"
    }
   ],
   "source": [
    "df.sort_values(by='price',ascending=False)[:2] #11"
   ]
  },
  {
   "cell_type": "code",
   "execution_count": 28,
   "id": "d3082dc5",
   "metadata": {},
   "outputs": [
    {
     "name": "stdout",
     "output_type": "stream",
     "text": [
      "1306800.0\n",
      "1932.9497396606994\n"
     ]
    }
   ],
   "source": [
    "print(df['total_sqft'].max())\n",
    "print(df['total_sqft'].mean()) #12"
   ]
  },
  {
   "cell_type": "code",
   "execution_count": 47,
   "id": "680ab333",
   "metadata": {},
   "outputs": [
    {
     "data": {
      "text/html": [
       "<div>\n",
       "<style scoped>\n",
       "    .dataframe tbody tr th:only-of-type {\n",
       "        vertical-align: middle;\n",
       "    }\n",
       "\n",
       "    .dataframe tbody tr th {\n",
       "        vertical-align: top;\n",
       "    }\n",
       "\n",
       "    .dataframe thead th {\n",
       "        text-align: right;\n",
       "    }\n",
       "</style>\n",
       "<table border=\"1\" class=\"dataframe\">\n",
       "  <thead>\n",
       "    <tr style=\"text-align: right;\">\n",
       "      <th></th>\n",
       "      <th>availability</th>\n",
       "    </tr>\n",
       "    <tr>\n",
       "      <th>location</th>\n",
       "      <th></th>\n",
       "    </tr>\n",
       "  </thead>\n",
       "  <tbody>\n",
       "    <tr>\n",
       "      <th>Whitefield</th>\n",
       "      <td>325</td>\n",
       "    </tr>\n",
       "  </tbody>\n",
       "</table>\n",
       "</div>"
      ],
      "text/plain": [
       "            availability\n",
       "location                \n",
       "Whitefield           325"
      ]
     },
     "execution_count": 47,
     "metadata": {},
     "output_type": "execute_result"
    }
   ],
   "source": [
    "temp = df[df['availability']==1]\n",
    "temp.groupby(by='location').agg({'availability':'sum'}).sort_values(by='availability',ascending=False)[:1] #13"
   ]
  },
  {
   "cell_type": "code",
   "execution_count": 30,
   "id": "2fcf0bfb",
   "metadata": {},
   "outputs": [
    {
     "data": {
      "text/html": [
       "<div>\n",
       "<style scoped>\n",
       "    .dataframe tbody tr th:only-of-type {\n",
       "        vertical-align: middle;\n",
       "    }\n",
       "\n",
       "    .dataframe tbody tr th {\n",
       "        vertical-align: top;\n",
       "    }\n",
       "\n",
       "    .dataframe thead th {\n",
       "        text-align: right;\n",
       "    }\n",
       "</style>\n",
       "<table border=\"1\" class=\"dataframe\">\n",
       "  <thead>\n",
       "    <tr style=\"text-align: right;\">\n",
       "      <th></th>\n",
       "      <th>area_type</th>\n",
       "      <th>availability</th>\n",
       "      <th>location</th>\n",
       "      <th>size</th>\n",
       "      <th>total_sqft</th>\n",
       "      <th>bath</th>\n",
       "      <th>balcony</th>\n",
       "      <th>price</th>\n",
       "      <th>availability_type</th>\n",
       "    </tr>\n",
       "  </thead>\n",
       "  <tbody>\n",
       "    <tr>\n",
       "      <th>0</th>\n",
       "      <td>Super built-up  Area</td>\n",
       "      <td>0</td>\n",
       "      <td>Electronic City Phase II</td>\n",
       "      <td>2</td>\n",
       "      <td>1056.0</td>\n",
       "      <td>2.0</td>\n",
       "      <td>1.0</td>\n",
       "      <td>39.07</td>\n",
       "      <td>0</td>\n",
       "    </tr>\n",
       "    <tr>\n",
       "      <th>6</th>\n",
       "      <td>Super built-up  Area</td>\n",
       "      <td>0</td>\n",
       "      <td>Old Airport Road</td>\n",
       "      <td>4</td>\n",
       "      <td>2732.0</td>\n",
       "      <td>4.0</td>\n",
       "      <td>2.0</td>\n",
       "      <td>204.00</td>\n",
       "      <td>0</td>\n",
       "    </tr>\n",
       "    <tr>\n",
       "      <th>10</th>\n",
       "      <td>Super built-up  Area</td>\n",
       "      <td>0</td>\n",
       "      <td>Whitefield</td>\n",
       "      <td>3</td>\n",
       "      <td>1800.0</td>\n",
       "      <td>2.0</td>\n",
       "      <td>2.0</td>\n",
       "      <td>70.00</td>\n",
       "      <td>0</td>\n",
       "    </tr>\n",
       "    <tr>\n",
       "      <th>21</th>\n",
       "      <td>Super built-up  Area</td>\n",
       "      <td>0</td>\n",
       "      <td>Binny Pete</td>\n",
       "      <td>3</td>\n",
       "      <td>1755.0</td>\n",
       "      <td>3.0</td>\n",
       "      <td>1.0</td>\n",
       "      <td>122.00</td>\n",
       "      <td>0</td>\n",
       "    </tr>\n",
       "    <tr>\n",
       "      <th>24</th>\n",
       "      <td>Super built-up  Area</td>\n",
       "      <td>0</td>\n",
       "      <td>Thanisandra</td>\n",
       "      <td>1</td>\n",
       "      <td>510.0</td>\n",
       "      <td>1.0</td>\n",
       "      <td>0.0</td>\n",
       "      <td>25.25</td>\n",
       "      <td>0</td>\n",
       "    </tr>\n",
       "    <tr>\n",
       "      <th>...</th>\n",
       "      <td>...</td>\n",
       "      <td>...</td>\n",
       "      <td>...</td>\n",
       "      <td>...</td>\n",
       "      <td>...</td>\n",
       "      <td>...</td>\n",
       "      <td>...</td>\n",
       "      <td>...</td>\n",
       "      <td>...</td>\n",
       "    </tr>\n",
       "    <tr>\n",
       "      <th>13288</th>\n",
       "      <td>Super built-up  Area</td>\n",
       "      <td>0</td>\n",
       "      <td>Mahadevpura</td>\n",
       "      <td>2</td>\n",
       "      <td>1050.0</td>\n",
       "      <td>2.0</td>\n",
       "      <td>1.0</td>\n",
       "      <td>42.00</td>\n",
       "      <td>0</td>\n",
       "    </tr>\n",
       "    <tr>\n",
       "      <th>13291</th>\n",
       "      <td>Plot  Area</td>\n",
       "      <td>0</td>\n",
       "      <td>Weavers Colony</td>\n",
       "      <td>1</td>\n",
       "      <td>812.0</td>\n",
       "      <td>1.0</td>\n",
       "      <td>0.0</td>\n",
       "      <td>26.00</td>\n",
       "      <td>0</td>\n",
       "    </tr>\n",
       "    <tr>\n",
       "      <th>13292</th>\n",
       "      <td>Super built-up  Area</td>\n",
       "      <td>0</td>\n",
       "      <td>Udayapur Village</td>\n",
       "      <td>3</td>\n",
       "      <td>1440.0</td>\n",
       "      <td>2.0</td>\n",
       "      <td>2.0</td>\n",
       "      <td>63.93</td>\n",
       "      <td>0</td>\n",
       "    </tr>\n",
       "    <tr>\n",
       "      <th>13295</th>\n",
       "      <td>Super built-up  Area</td>\n",
       "      <td>0</td>\n",
       "      <td>Haralur Road</td>\n",
       "      <td>3</td>\n",
       "      <td>1810.0</td>\n",
       "      <td>3.0</td>\n",
       "      <td>2.0</td>\n",
       "      <td>112.00</td>\n",
       "      <td>0</td>\n",
       "    </tr>\n",
       "    <tr>\n",
       "      <th>13318</th>\n",
       "      <td>Super built-up  Area</td>\n",
       "      <td>0</td>\n",
       "      <td>Padmanabhanagar</td>\n",
       "      <td>4</td>\n",
       "      <td>4689.0</td>\n",
       "      <td>4.0</td>\n",
       "      <td>1.0</td>\n",
       "      <td>488.00</td>\n",
       "      <td>0</td>\n",
       "    </tr>\n",
       "  </tbody>\n",
       "</table>\n",
       "<p>2619 rows × 9 columns</p>\n",
       "</div>"
      ],
      "text/plain": [
       "                  area_type  availability                  location  size  \\\n",
       "0      Super built-up  Area             0  Electronic City Phase II     2   \n",
       "6      Super built-up  Area             0          Old Airport Road     4   \n",
       "10     Super built-up  Area             0                Whitefield     3   \n",
       "21     Super built-up  Area             0                Binny Pete     3   \n",
       "24     Super built-up  Area             0               Thanisandra     1   \n",
       "...                     ...           ...                       ...   ...   \n",
       "13288  Super built-up  Area             0               Mahadevpura     2   \n",
       "13291            Plot  Area             0            Weavers Colony     1   \n",
       "13292  Super built-up  Area             0          Udayapur Village     3   \n",
       "13295  Super built-up  Area             0              Haralur Road     3   \n",
       "13318  Super built-up  Area             0           Padmanabhanagar     4   \n",
       "\n",
       "       total_sqft  bath  balcony   price  availability_type  \n",
       "0          1056.0   2.0      1.0   39.07                  0  \n",
       "6          2732.0   4.0      2.0  204.00                  0  \n",
       "10         1800.0   2.0      2.0   70.00                  0  \n",
       "21         1755.0   3.0      1.0  122.00                  0  \n",
       "24          510.0   1.0      0.0   25.25                  0  \n",
       "...           ...   ...      ...     ...                ...  \n",
       "13288      1050.0   2.0      1.0   42.00                  0  \n",
       "13291       812.0   1.0      0.0   26.00                  0  \n",
       "13292      1440.0   2.0      2.0   63.93                  0  \n",
       "13295      1810.0   3.0      2.0  112.00                  0  \n",
       "13318      4689.0   4.0      1.0  488.00                  0  \n",
       "\n",
       "[2619 rows x 9 columns]"
      ]
     },
     "execution_count": 30,
     "metadata": {},
     "output_type": "execute_result"
    }
   ],
   "source": [
    "df[df['availability']!=1] #14"
   ]
  },
  {
   "cell_type": "markdown",
   "id": "dbaf9f6a",
   "metadata": {},
   "source": [
    "1. Average price for each area type\n",
    "2. get the available and not available houses count in each area type\n",
    "3. proprtion of each area type\n",
    "4. distribution of prices\n",
    "5. detect the outliers in prices\n",
    "6. get the relation b/w sq.feet and prices\n",
    "7. get the corr of columns using heatmap\n",
    "8. get the trend of sq.feet and prices"
   ]
  },
  {
   "cell_type": "code",
   "execution_count": 50,
   "id": "179e5e23",
   "metadata": {},
   "outputs": [
    {
     "data": {
      "image/png": "[encoded data removed]",
      "text/plain": [
       "<Figure size 640x480 with 1 Axes>"
      ]
     },
     "metadata": {},
     "output_type": "display_data"
    }
   ],
   "source": [
    "sns.barplot(data=df,y='price',hue='area_type',estimator='mean')\n",
    "plt.title('AVG by Area')\n",
    "plt.show()"
   ]
  },
  {
   "cell_type": "markdown",
   "id": "a8499bd9",
   "metadata": {},
   "source": [
    "Observation: the plot area has highest mean price"
   ]
  },
  {
   "cell_type": "code",
   "execution_count": 32,
   "id": "9f73945a",
   "metadata": {},
   "outputs": [
    {
     "data": {
      "image/png": "[encoded data removed]",
      "text/plain": [
       "<Figure size 640x480 with 1 Axes>"
      ]
     },
     "metadata": {},
     "output_type": "display_data"
    }
   ],
   "source": [
    "ax=sns.countplot(data=df,x='area_type',hue='availability_type')\n",
    "ax.bar_label(ax.containers[0])\n",
    "ax.bar_label(ax.containers[1])\n",
    "plt.title('Count of avail house')\n",
    "plt.show()\n",
    "# ax=sns.countplot(data=df,x='gender')\n",
    "# ax.bar_label(ax.containers[0])\n",
    "# plt.show()\n"
   ]
  },
  {
   "cell_type": "markdown",
   "id": "5a109f53",
   "metadata": {},
   "source": [
    "observation: super build-up area has highest availability house"
   ]
  },
  {
   "cell_type": "code",
   "execution_count": 33,
   "id": "d3107af1",
   "metadata": {},
   "outputs": [
    {
     "data": {
      "image/png": "[encoded data removed]",
      "text/plain": [
       "<Figure size 640x480 with 1 Axes>"
      ]
     },
     "metadata": {},
     "output_type": "display_data"
    }
   ],
   "source": [
    "idx=df['area_type'].value_counts().index\n",
    "val=df['area_type'].value_counts().values\n",
    "plt.pie(x=val,labels=idx,autopct='%.1f%%')\n",
    "plt.title('Portion of each area')\n",
    "plt.show()"
   ]
  },
  {
   "cell_type": "markdown",
   "id": "37bcf674",
   "metadata": {},
   "source": [
    "observation: the super built-up area has highest prortion among the area type"
   ]
  },
  {
   "cell_type": "code",
   "execution_count": 34,
   "id": "ce0a5b0f",
   "metadata": {},
   "outputs": [
    {
     "data": {
      "image/png": "[encoded data removed]",
      "text/plain": [
       "<Figure size 640x480 with 1 Axes>"
      ]
     },
     "metadata": {},
     "output_type": "display_data"
    }
   ],
   "source": [
    "sns.kdeplot(data=df,x='price')\n",
    "plt.title('Destribution of price')\n",
    "plt.show()"
   ]
  },
  {
   "cell_type": "markdown",
   "id": "265302a7",
   "metadata": {},
   "source": [
    "Observation: most of the price are clustered in between 0 - 400 range"
   ]
  },
  {
   "cell_type": "code",
   "execution_count": 35,
   "id": "b1b94a4e",
   "metadata": {},
   "outputs": [
    {
     "data": {
      "image/png": "[encoded data removed]",
      "text/plain": [
       "<Figure size 640x480 with 2 Axes>"
      ]
     },
     "metadata": {},
     "output_type": "display_data"
    }
   ],
   "source": [
    "c=df.corr(numeric_only=True)\n",
    "sns.heatmap(c,annot=True)\n",
    "plt.title('Corr of numeric')\n",
    "plt.show()"
   ]
  },
  {
   "cell_type": "markdown",
   "id": "91a7ef5c",
   "metadata": {},
   "source": [
    "Observation: ther is no strong correlation between price and house square feet. though, it has slight positive corr as 0.048"
   ]
  },
  {
   "cell_type": "code",
   "execution_count": 36,
   "id": "efcac32b",
   "metadata": {},
   "outputs": [
    {
     "data": {
      "image/png": "[encoded data removed]",
      "text/plain": [
       "<Figure size 1000x600 with 1 Axes>"
      ]
     },
     "metadata": {},
     "output_type": "display_data"
    }
   ],
   "source": [
    "plt.figure(figsize=(10,6))\n",
    "sns.lineplot(data=df, x='price', y='total_sqft', estimator='mean')\n",
    "plt.title('Trend of price and Sqft')\n",
    "plt.grid(True)\n",
    "plt.show()"
   ]
  },
  {
   "cell_type": "markdown",
   "id": "d7322f5b",
   "metadata": {},
   "source": [
    "Observation: there is no significant trend between price and square feet."
   ]
  }
 ],
 "metadata": {
  "kernelspec": {
   "display_name": "Python 3",
   "language": "python",
   "name": "python3"
  },
  "language_info": {
   "codemirror_mode": {
    "name": "ipython",
    "version": 3
   },
   "file_extension": ".py",
   "mimetype": "text/x-python",
   "name": "python",
   "nbconvert_exporter": "python",
   "pygments_lexer": "ipython3",
   "version": "3.12.10"
  }
 },
 "nbformat": 4,
 "nbformat_minor": 5
}
